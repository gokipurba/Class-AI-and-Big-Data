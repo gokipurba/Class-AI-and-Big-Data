{
 "cells": [
  {
   "cell_type": "markdown",
   "metadata": {},
   "source": [
    "----\n",
    "Homework no: 2\n",
    "===\n",
    "\n",
    "### Name : Goki Folder Rudianto Purba | Student ID : 1101208510   \n",
    "\n",
    "---\n",
    "#### (x) My refrence \n",
    "#### (v) I totally write by myself\n",
    "#### Author |  ***[Goki Purba GitHub](https://github.com/gokipurba \"Purba's GitHub\")***\n",
    "#### 1.  Install scikit-learn \n"
   ]
  },
  {
   "cell_type": "code",
   "execution_count": 1,
   "metadata": {
    "scrolled": true
   },
   "outputs": [
    {
     "name": "stdout",
     "output_type": "stream",
     "text": [
      "Requirement already up-to-date: scikit-learn in c:\\users\\cadaz\\anaconda3\\lib\\site-packages (0.24.1)\n",
      "Requirement already satisfied, skipping upgrade: scipy>=0.19.1 in c:\\users\\cadaz\\anaconda3\\lib\\site-packages (from scikit-learn) (1.5.2)\n",
      "Requirement already satisfied, skipping upgrade: threadpoolctl>=2.0.0 in c:\\users\\cadaz\\anaconda3\\lib\\site-packages (from scikit-learn) (2.1.0)\n",
      "Requirement already satisfied, skipping upgrade: joblib>=0.11 in c:\\users\\cadaz\\anaconda3\\lib\\site-packages (from scikit-learn) (0.17.0)\n",
      "Requirement already satisfied, skipping upgrade: numpy>=1.13.3 in c:\\users\\cadaz\\anaconda3\\lib\\site-packages (from scikit-learn) (1.19.2)\n",
      "Note: you may need to restart the kernel to use updated packages.\n"
     ]
    }
   ],
   "source": [
    "pip install -U scikit-learn"
   ]
  },
  {
   "cell_type": "code",
   "execution_count": 6,
   "metadata": {
    "scrolled": true
   },
   "outputs": [],
   "source": [
    "import sklearn\n",
    "name = \"Goki Folder Rudianto Purba\"\n",
    "NIM = 1101208510"
   ]
  },
  {
   "cell_type": "code",
   "execution_count": 7,
   "metadata": {},
   "outputs": [
    {
     "name": "stdout",
     "output_type": "stream",
     "text": [
      "My Name is Goki Folder Rudianto Purba with student ID 1101208510 I have installed The Scikit_Learn on my computer with version 0.24.1\n"
     ]
    }
   ],
   "source": [
    "print(f'My Name is {name} with student ID {NIM} I have installed The Scikit_Learn on my computer with version {sklearn.__version__}')"
   ]
  },
  {
   "cell_type": "markdown",
   "metadata": {},
   "source": [
    "#### 2. Answer this questions\n",
    "#### scikit-learn \n",
    "#### Author |  ***[Goki Purba GitHub](https://github.com/gokipurba \"Purba's GitHub\")***"
   ]
  },
  {
   "cell_type": "markdown",
   "metadata": {},
   "source": [
    "1. What is scikit-learn \n",
    "adalah library gratis untuk keperluan machine learning berbasis bahasa python. Scikit-learn menyediakan banyak algoritma supervised dan unsupervised. contoh bermacam fitur algoritma seperti classification, regression clustering. Dengan library ini memudahkan kita untuk menggunakan algortima yang kompleks dengan cepat dan reliability.  \n",
    "\n",
    "\n",
    "2. What is classification? Explain with it Applications and Algorithims\n",
    "Klasifikasi adalah suatu metode supervised learning model dimana data akan diklasifikasikan atau di labeled kemudian dilakukan traning sehingga mendapatkan model untuk klasifikasi. contoh paling umum adalah deteksi anjing dan kucing, dimana kita memerlukan kumpulan data (data set) anjing yang dilabel (anjing) dan data set kucing yang dilabel (kucing), kemudian dari dua label data itu dilakukan training atau dengan kata lain sistem akan mempelajari untuk membedakan anjing dan kucing, kemudian setelah dilakukan train dan menghasilkan akurasi yang tinggi, maka sistem bisa langsung digunakan untuk mendeteksi sebuah gambar anjing atau kucing.\n",
    "\n",
    "\n",
    "3. What is Regression? Explain with it Applications and Algorithims\n",
    "Regeresi adalah salah satu metode statistika untuk menentukan sebab akibat antara satu variabel dengan variabel yang lainnya. regression juga termasuk metode supervised learning model. Berbicara tentang regression maka kita berbicara data Continuous Variable, model untuk memprediksi diambil dalam traning data yang sama dengan yang digunakan untuk mengklasifikasikan, namun bedanya dengan classification adalah output yang dihasilkan continuous, sehingga setiap data yang dimasukkan kedalam model akan menghasilkan prediksi output yang berbeda sesuai dengan variabel yang dimasukkan. contoh dalam regression bisa digunakan untuk prediksi harga saham dalam 10 hari atau 2 hari, kedua contoh ini akan menghasilkan nilai yang berbeda sesuai dengan variable yang kita masukkan, karena kita membutuhkan data yang continuous maka kita bisa menggunakan regression untuk memprediksinya.\n",
    "\n",
    "\n",
    "4. What is clustering? Explain with it Applications and Algorithims\n",
    "Clusteriing adalah analisis tugas pengelompokan sekumpulan objek sedemikian rupa sehingga objek dalam kelompok yang sama atau  lebih mirip satu sama lain daripada pada kelompok lain, contoh nya kita memiliki banyak data gambar acak anjing, kucing, sapi, kemudian algoritma ini membuat atau memisahkan setiap data yang sudah dipelajari dengan data point yang relatif menyerupai sejenisnya shingga mengelompokkan menjadi 3 kelompok."
   ]
  },
  {
   "cell_type": "code",
   "execution_count": null,
   "metadata": {},
   "outputs": [],
   "source": []
  }
 ],
 "metadata": {
  "kernelspec": {
   "display_name": "Python 3",
   "language": "python",
   "name": "python3"
  },
  "language_info": {
   "codemirror_mode": {
    "name": "ipython",
    "version": 3
   },
   "file_extension": ".py",
   "mimetype": "text/x-python",
   "name": "python",
   "nbconvert_exporter": "python",
   "pygments_lexer": "ipython3",
   "version": "3.8.5"
  }
 },
 "nbformat": 4,
 "nbformat_minor": 4
}
