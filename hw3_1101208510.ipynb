{
 "cells": [
  {
   "cell_type": "markdown",
   "metadata": {},
   "source": [
    "----\n",
    "Homework no: 3\n",
    "===\n",
    "\n",
    "### Name : Goki Folder Rudianto Purba | Student ID : 1101208510   \n",
    "\n",
    "---\n",
    "#### (x) My refrence \n",
    "#### (v) I totally write by myself\n",
    "#### Author |  ***[Goki Purba GitHub](https://github.com/gokipurba \"Purba's GitHub\")***\n"
   ]
  },
  {
   "cell_type": "markdown",
   "metadata": {},
   "source": [
    "#### 1. Import File .txt"
   ]
  },
  {
   "cell_type": "code",
   "execution_count": 1,
   "metadata": {
    "scrolled": true
   },
   "outputs": [
    {
     "data": {
      "text/html": [
       "<div>\n",
       "<style scoped>\n",
       "    .dataframe tbody tr th:only-of-type {\n",
       "        vertical-align: middle;\n",
       "    }\n",
       "\n",
       "    .dataframe tbody tr th {\n",
       "        vertical-align: top;\n",
       "    }\n",
       "\n",
       "    .dataframe thead th {\n",
       "        text-align: right;\n",
       "    }\n",
       "</style>\n",
       "<table border=\"1\" class=\"dataframe\">\n",
       "  <thead>\n",
       "    <tr style=\"text-align: right;\">\n",
       "      <th></th>\n",
       "      <th>gvkey</th>\n",
       "      <th>datadate</th>\n",
       "      <th>fyear</th>\n",
       "      <th>tic</th>\n",
       "      <th>at</th>\n",
       "    </tr>\n",
       "  </thead>\n",
       "  <tbody>\n",
       "    <tr>\n",
       "      <th>0</th>\n",
       "      <td>1004</td>\n",
       "      <td>20090531</td>\n",
       "      <td>2008.0</td>\n",
       "      <td>AIR</td>\n",
       "      <td>1377.511</td>\n",
       "    </tr>\n",
       "    <tr>\n",
       "      <th>1</th>\n",
       "      <td>1004</td>\n",
       "      <td>20100531</td>\n",
       "      <td>2009.0</td>\n",
       "      <td>AIR</td>\n",
       "      <td>1501.042</td>\n",
       "    </tr>\n",
       "    <tr>\n",
       "      <th>2</th>\n",
       "      <td>1004</td>\n",
       "      <td>20110531</td>\n",
       "      <td>2010.0</td>\n",
       "      <td>AIR</td>\n",
       "      <td>1703.727</td>\n",
       "    </tr>\n",
       "    <tr>\n",
       "      <th>3</th>\n",
       "      <td>1004</td>\n",
       "      <td>20120531</td>\n",
       "      <td>2011.0</td>\n",
       "      <td>AIR</td>\n",
       "      <td>2195.653</td>\n",
       "    </tr>\n",
       "    <tr>\n",
       "      <th>4</th>\n",
       "      <td>1004</td>\n",
       "      <td>20130531</td>\n",
       "      <td>2012.0</td>\n",
       "      <td>AIR</td>\n",
       "      <td>2136.900</td>\n",
       "    </tr>\n",
       "  </tbody>\n",
       "</table>\n",
       "</div>"
      ],
      "text/plain": [
       "   gvkey  datadate   fyear  tic        at\n",
       "0   1004  20090531  2008.0  AIR  1377.511\n",
       "1   1004  20100531  2009.0  AIR  1501.042\n",
       "2   1004  20110531  2010.0  AIR  1703.727\n",
       "3   1004  20120531  2011.0  AIR  2195.653\n",
       "4   1004  20130531  2012.0  AIR  2136.900"
      ]
     },
     "execution_count": 1,
     "metadata": {},
     "output_type": "execute_result"
    }
   ],
   "source": [
    "import pandas as pd\n",
    "#data_frame(df)\n",
    "df = pd.read_csv(\"LB_TA.txt\", delimiter=\"\\t\")\n",
    "df.head()"
   ]
  },
  {
   "cell_type": "code",
   "execution_count": 2,
   "metadata": {},
   "outputs": [
    {
     "data": {
      "text/plain": [
       "(13376, 5)"
      ]
     },
     "execution_count": 2,
     "metadata": {},
     "output_type": "execute_result"
    }
   ],
   "source": [
    "df.shape"
   ]
  },
  {
   "cell_type": "markdown",
   "metadata": {},
   "source": [
    "#### 2. Menghapus Tic dengan nilai at = 0"
   ]
  },
  {
   "cell_type": "code",
   "execution_count": 3,
   "metadata": {},
   "outputs": [
    {
     "data": {
      "text/html": [
       "<div>\n",
       "<style scoped>\n",
       "    .dataframe tbody tr th:only-of-type {\n",
       "        vertical-align: middle;\n",
       "    }\n",
       "\n",
       "    .dataframe tbody tr th {\n",
       "        vertical-align: top;\n",
       "    }\n",
       "\n",
       "    .dataframe thead th {\n",
       "        text-align: right;\n",
       "    }\n",
       "</style>\n",
       "<table border=\"1\" class=\"dataframe\">\n",
       "  <thead>\n",
       "    <tr style=\"text-align: right;\">\n",
       "      <th></th>\n",
       "      <th>gvkey</th>\n",
       "      <th>datadate</th>\n",
       "      <th>fyear</th>\n",
       "      <th>tic</th>\n",
       "      <th>at</th>\n",
       "    </tr>\n",
       "  </thead>\n",
       "  <tbody>\n",
       "    <tr>\n",
       "      <th>0</th>\n",
       "      <td>1004</td>\n",
       "      <td>20090531</td>\n",
       "      <td>2008.0</td>\n",
       "      <td>AIR</td>\n",
       "      <td>1377.511</td>\n",
       "    </tr>\n",
       "    <tr>\n",
       "      <th>1</th>\n",
       "      <td>1004</td>\n",
       "      <td>20100531</td>\n",
       "      <td>2009.0</td>\n",
       "      <td>AIR</td>\n",
       "      <td>1501.042</td>\n",
       "    </tr>\n",
       "    <tr>\n",
       "      <th>2</th>\n",
       "      <td>1004</td>\n",
       "      <td>20110531</td>\n",
       "      <td>2010.0</td>\n",
       "      <td>AIR</td>\n",
       "      <td>1703.727</td>\n",
       "    </tr>\n",
       "    <tr>\n",
       "      <th>3</th>\n",
       "      <td>1004</td>\n",
       "      <td>20120531</td>\n",
       "      <td>2011.0</td>\n",
       "      <td>AIR</td>\n",
       "      <td>2195.653</td>\n",
       "    </tr>\n",
       "    <tr>\n",
       "      <th>4</th>\n",
       "      <td>1004</td>\n",
       "      <td>20130531</td>\n",
       "      <td>2012.0</td>\n",
       "      <td>AIR</td>\n",
       "      <td>2136.900</td>\n",
       "    </tr>\n",
       "    <tr>\n",
       "      <th>...</th>\n",
       "      <td>...</td>\n",
       "      <td>...</td>\n",
       "      <td>...</td>\n",
       "      <td>...</td>\n",
       "      <td>...</td>\n",
       "    </tr>\n",
       "    <tr>\n",
       "      <th>13371</th>\n",
       "      <td>15743</td>\n",
       "      <td>20111231</td>\n",
       "      <td>2011.0</td>\n",
       "      <td>DBSDY</td>\n",
       "      <td>263242.972</td>\n",
       "    </tr>\n",
       "    <tr>\n",
       "      <th>13372</th>\n",
       "      <td>15743</td>\n",
       "      <td>20121231</td>\n",
       "      <td>2012.0</td>\n",
       "      <td>DBSDY</td>\n",
       "      <td>289039.627</td>\n",
       "    </tr>\n",
       "    <tr>\n",
       "      <th>13373</th>\n",
       "      <td>15743</td>\n",
       "      <td>20121231</td>\n",
       "      <td>2012.0</td>\n",
       "      <td>DBSDY</td>\n",
       "      <td>289039.627</td>\n",
       "    </tr>\n",
       "    <tr>\n",
       "      <th>13374</th>\n",
       "      <td>15743</td>\n",
       "      <td>20131231</td>\n",
       "      <td>2013.0</td>\n",
       "      <td>DBSDY</td>\n",
       "      <td>318497.861</td>\n",
       "    </tr>\n",
       "    <tr>\n",
       "      <th>13375</th>\n",
       "      <td>15743</td>\n",
       "      <td>20131231</td>\n",
       "      <td>2013.0</td>\n",
       "      <td>DBSDY</td>\n",
       "      <td>318497.861</td>\n",
       "    </tr>\n",
       "  </tbody>\n",
       "</table>\n",
       "<p>12570 rows × 5 columns</p>\n",
       "</div>"
      ],
      "text/plain": [
       "       gvkey  datadate   fyear    tic          at\n",
       "0       1004  20090531  2008.0    AIR    1377.511\n",
       "1       1004  20100531  2009.0    AIR    1501.042\n",
       "2       1004  20110531  2010.0    AIR    1703.727\n",
       "3       1004  20120531  2011.0    AIR    2195.653\n",
       "4       1004  20130531  2012.0    AIR    2136.900\n",
       "...      ...       ...     ...    ...         ...\n",
       "13371  15743  20111231  2011.0  DBSDY  263242.972\n",
       "13372  15743  20121231  2012.0  DBSDY  289039.627\n",
       "13373  15743  20121231  2012.0  DBSDY  289039.627\n",
       "13374  15743  20131231  2013.0  DBSDY  318497.861\n",
       "13375  15743  20131231  2013.0  DBSDY  318497.861\n",
       "\n",
       "[12570 rows x 5 columns]"
      ]
     },
     "execution_count": 3,
     "metadata": {},
     "output_type": "execute_result"
    }
   ],
   "source": [
    "new_df = df.dropna(subset= ['at'])\n",
    "new_df"
   ]
  },
  {
   "cell_type": "markdown",
   "metadata": {},
   "source": [
    "#### 3. Menggabungkan label \"tic\" yang sama kemudian dilakukan func method .mean() untuk mencari rata-rata"
   ]
  },
  {
   "cell_type": "code",
   "execution_count": 4,
   "metadata": {},
   "outputs": [
    {
     "data": {
      "text/plain": [
       "tic\n",
       "WACLY      2527.741333\n",
       "WBA       28370.666667\n",
       "WBK      578113.277333\n",
       "WCM.A        53.693667\n",
       "WDAY        867.147000\n",
       "             ...      \n",
       "ZNT        2479.513500\n",
       "ZQKSQ      1803.654500\n",
       "ZRBA         21.217500\n",
       "ZTS        5953.750000\n",
       "ZZ          959.528000\n",
       "Name: at, Length: 100, dtype: float64"
      ]
     },
     "execution_count": 4,
     "metadata": {},
     "output_type": "execute_result"
    }
   ],
   "source": [
    "tic = new_df.groupby(['tic'])\n",
    "tic = tic.mean()\n",
    "tic[\"at\"].tail(100)"
   ]
  },
  {
   "cell_type": "code",
   "execution_count": 5,
   "metadata": {},
   "outputs": [
    {
     "data": {
      "text/plain": [
       "tic\n",
       "AIR      1852.388833\n",
       "ADCT     1579.700000\n",
       "IWKS       21.401000\n",
       "AAL     27556.166667\n",
       "CECE      132.384667\n",
       "ASA       493.668333\n",
       "AVX      2283.083000\n",
       "PNW     12631.711667\n",
       "AAN      1572.008667\n",
       "ABT     54127.155000\n",
       "Name: at, dtype: float64"
      ]
     },
     "execution_count": 5,
     "metadata": {},
     "output_type": "execute_result"
    }
   ],
   "source": [
    "tic[\"at\"].loc[[\"AIR\",\"ADCT\",\"IWKS\",\"AAL\",\"CECE\", \"ASA\", \"AVX\", \"PNW\", \"AAN\", \"ABT\"]]"
   ]
  },
  {
   "cell_type": "markdown",
   "metadata": {},
   "source": [
    "#### 4. Save to .csv"
   ]
  },
  {
   "cell_type": "code",
   "execution_count": 6,
   "metadata": {},
   "outputs": [],
   "source": [
    "tic[\"at\"].to_csv(\"LB_TA.csv\")"
   ]
  }
 ],
 "metadata": {
  "kernelspec": {
   "display_name": "Python 3",
   "language": "python",
   "name": "python3"
  },
  "language_info": {
   "codemirror_mode": {
    "name": "ipython",
    "version": 3
   },
   "file_extension": ".py",
   "mimetype": "text/x-python",
   "name": "python",
   "nbconvert_exporter": "python",
   "pygments_lexer": "ipython3",
   "version": "3.8.5"
  }
 },
 "nbformat": 4,
 "nbformat_minor": 4
}
