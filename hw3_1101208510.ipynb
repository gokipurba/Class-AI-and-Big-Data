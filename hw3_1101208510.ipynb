{
  "nbformat": 4,
  "nbformat_minor": 0,
  "metadata": {
    "kernelspec": {
      "display_name": "Python 3",
      "language": "python",
      "name": "python3"
    },
    "language_info": {
      "codemirror_mode": {
        "name": "ipython",
        "version": 3
      },
      "file_extension": ".py",
      "mimetype": "text/x-python",
      "name": "python",
      "nbconvert_exporter": "python",
      "pygments_lexer": "ipython3",
      "version": "3.8.5"
    },
    "colab": {
      "name": "hw3_1101208510.ipynb",
      "provenance": []
    }
  },
  "cells": [
    {
      "cell_type": "markdown",
      "metadata": {
        "id": "XhJybYT67uH-"
      },
      "source": [
        "----\n",
        "Homework no: 3\n",
        "===\n",
        "\n",
        "### Name : Goki Folder Rudianto Purba | Student ID : 1101208510   \n",
        "\n",
        "---\n",
        "#### (x) My refrence \n",
        "#### (v) I totally write by myself\n",
        "#### Author |  ***[Goki Purba GitHub](https://github.com/gokipurba \"Purba's GitHub\")***\n"
      ]
    },
    {
      "cell_type": "markdown",
      "metadata": {
        "id": "31wUz2AX7uID"
      },
      "source": [
        "#### 1. Import File .txt"
      ]
    },
    {
      "cell_type": "code",
      "metadata": {
        "scrolled": true,
        "id": "jzAHbuPi7uIE",
        "outputId": "a79eb63a-cd99-4f12-be64-ada5336004d7"
      },
      "source": [
        "import pandas as pd\n",
        "#data_frame(df)\n",
        "df = pd.read_csv(\"LB_TA.txt\", delimiter=\"\\t\")\n",
        "df.head()"
      ],
      "execution_count": null,
      "outputs": [
        {
          "output_type": "execute_result",
          "data": {
            "text/html": [
              "<div>\n",
              "<style scoped>\n",
              "    .dataframe tbody tr th:only-of-type {\n",
              "        vertical-align: middle;\n",
              "    }\n",
              "\n",
              "    .dataframe tbody tr th {\n",
              "        vertical-align: top;\n",
              "    }\n",
              "\n",
              "    .dataframe thead th {\n",
              "        text-align: right;\n",
              "    }\n",
              "</style>\n",
              "<table border=\"1\" class=\"dataframe\">\n",
              "  <thead>\n",
              "    <tr style=\"text-align: right;\">\n",
              "      <th></th>\n",
              "      <th>gvkey</th>\n",
              "      <th>datadate</th>\n",
              "      <th>fyear</th>\n",
              "      <th>tic</th>\n",
              "      <th>at</th>\n",
              "    </tr>\n",
              "  </thead>\n",
              "  <tbody>\n",
              "    <tr>\n",
              "      <th>0</th>\n",
              "      <td>1004</td>\n",
              "      <td>20090531</td>\n",
              "      <td>2008.0</td>\n",
              "      <td>AIR</td>\n",
              "      <td>1377.511</td>\n",
              "    </tr>\n",
              "    <tr>\n",
              "      <th>1</th>\n",
              "      <td>1004</td>\n",
              "      <td>20100531</td>\n",
              "      <td>2009.0</td>\n",
              "      <td>AIR</td>\n",
              "      <td>1501.042</td>\n",
              "    </tr>\n",
              "    <tr>\n",
              "      <th>2</th>\n",
              "      <td>1004</td>\n",
              "      <td>20110531</td>\n",
              "      <td>2010.0</td>\n",
              "      <td>AIR</td>\n",
              "      <td>1703.727</td>\n",
              "    </tr>\n",
              "    <tr>\n",
              "      <th>3</th>\n",
              "      <td>1004</td>\n",
              "      <td>20120531</td>\n",
              "      <td>2011.0</td>\n",
              "      <td>AIR</td>\n",
              "      <td>2195.653</td>\n",
              "    </tr>\n",
              "    <tr>\n",
              "      <th>4</th>\n",
              "      <td>1004</td>\n",
              "      <td>20130531</td>\n",
              "      <td>2012.0</td>\n",
              "      <td>AIR</td>\n",
              "      <td>2136.900</td>\n",
              "    </tr>\n",
              "  </tbody>\n",
              "</table>\n",
              "</div>"
            ],
            "text/plain": [
              "   gvkey  datadate   fyear  tic        at\n",
              "0   1004  20090531  2008.0  AIR  1377.511\n",
              "1   1004  20100531  2009.0  AIR  1501.042\n",
              "2   1004  20110531  2010.0  AIR  1703.727\n",
              "3   1004  20120531  2011.0  AIR  2195.653\n",
              "4   1004  20130531  2012.0  AIR  2136.900"
            ]
          },
          "metadata": {
            "tags": []
          },
          "execution_count": 1
        }
      ]
    },
    {
      "cell_type": "code",
      "metadata": {
        "id": "iO4q0pLo7uIF",
        "outputId": "d030264c-47f0-4bcc-81c0-e14458ff6951"
      },
      "source": [
        "df.shape"
      ],
      "execution_count": null,
      "outputs": [
        {
          "output_type": "execute_result",
          "data": {
            "text/plain": [
              "(13376, 5)"
            ]
          },
          "metadata": {
            "tags": []
          },
          "execution_count": 2
        }
      ]
    },
    {
      "cell_type": "markdown",
      "metadata": {
        "id": "pspW9sAb7uIG"
      },
      "source": [
        "#### 2. Menghapus Tic dengan nilai at = 0"
      ]
    },
    {
      "cell_type": "code",
      "metadata": {
        "id": "tPav133k7uIG",
        "outputId": "d985604b-c2d1-4f18-f58f-8c3e27b7e076"
      },
      "source": [
        "new_df = df.dropna(subset= ['at'])\n",
        "new_df"
      ],
      "execution_count": null,
      "outputs": [
        {
          "output_type": "execute_result",
          "data": {
            "text/html": [
              "<div>\n",
              "<style scoped>\n",
              "    .dataframe tbody tr th:only-of-type {\n",
              "        vertical-align: middle;\n",
              "    }\n",
              "\n",
              "    .dataframe tbody tr th {\n",
              "        vertical-align: top;\n",
              "    }\n",
              "\n",
              "    .dataframe thead th {\n",
              "        text-align: right;\n",
              "    }\n",
              "</style>\n",
              "<table border=\"1\" class=\"dataframe\">\n",
              "  <thead>\n",
              "    <tr style=\"text-align: right;\">\n",
              "      <th></th>\n",
              "      <th>gvkey</th>\n",
              "      <th>datadate</th>\n",
              "      <th>fyear</th>\n",
              "      <th>tic</th>\n",
              "      <th>at</th>\n",
              "    </tr>\n",
              "  </thead>\n",
              "  <tbody>\n",
              "    <tr>\n",
              "      <th>0</th>\n",
              "      <td>1004</td>\n",
              "      <td>20090531</td>\n",
              "      <td>2008.0</td>\n",
              "      <td>AIR</td>\n",
              "      <td>1377.511</td>\n",
              "    </tr>\n",
              "    <tr>\n",
              "      <th>1</th>\n",
              "      <td>1004</td>\n",
              "      <td>20100531</td>\n",
              "      <td>2009.0</td>\n",
              "      <td>AIR</td>\n",
              "      <td>1501.042</td>\n",
              "    </tr>\n",
              "    <tr>\n",
              "      <th>2</th>\n",
              "      <td>1004</td>\n",
              "      <td>20110531</td>\n",
              "      <td>2010.0</td>\n",
              "      <td>AIR</td>\n",
              "      <td>1703.727</td>\n",
              "    </tr>\n",
              "    <tr>\n",
              "      <th>3</th>\n",
              "      <td>1004</td>\n",
              "      <td>20120531</td>\n",
              "      <td>2011.0</td>\n",
              "      <td>AIR</td>\n",
              "      <td>2195.653</td>\n",
              "    </tr>\n",
              "    <tr>\n",
              "      <th>4</th>\n",
              "      <td>1004</td>\n",
              "      <td>20130531</td>\n",
              "      <td>2012.0</td>\n",
              "      <td>AIR</td>\n",
              "      <td>2136.900</td>\n",
              "    </tr>\n",
              "    <tr>\n",
              "      <th>...</th>\n",
              "      <td>...</td>\n",
              "      <td>...</td>\n",
              "      <td>...</td>\n",
              "      <td>...</td>\n",
              "      <td>...</td>\n",
              "    </tr>\n",
              "    <tr>\n",
              "      <th>13371</th>\n",
              "      <td>15743</td>\n",
              "      <td>20111231</td>\n",
              "      <td>2011.0</td>\n",
              "      <td>DBSDY</td>\n",
              "      <td>263242.972</td>\n",
              "    </tr>\n",
              "    <tr>\n",
              "      <th>13372</th>\n",
              "      <td>15743</td>\n",
              "      <td>20121231</td>\n",
              "      <td>2012.0</td>\n",
              "      <td>DBSDY</td>\n",
              "      <td>289039.627</td>\n",
              "    </tr>\n",
              "    <tr>\n",
              "      <th>13373</th>\n",
              "      <td>15743</td>\n",
              "      <td>20121231</td>\n",
              "      <td>2012.0</td>\n",
              "      <td>DBSDY</td>\n",
              "      <td>289039.627</td>\n",
              "    </tr>\n",
              "    <tr>\n",
              "      <th>13374</th>\n",
              "      <td>15743</td>\n",
              "      <td>20131231</td>\n",
              "      <td>2013.0</td>\n",
              "      <td>DBSDY</td>\n",
              "      <td>318497.861</td>\n",
              "    </tr>\n",
              "    <tr>\n",
              "      <th>13375</th>\n",
              "      <td>15743</td>\n",
              "      <td>20131231</td>\n",
              "      <td>2013.0</td>\n",
              "      <td>DBSDY</td>\n",
              "      <td>318497.861</td>\n",
              "    </tr>\n",
              "  </tbody>\n",
              "</table>\n",
              "<p>12570 rows × 5 columns</p>\n",
              "</div>"
            ],
            "text/plain": [
              "       gvkey  datadate   fyear    tic          at\n",
              "0       1004  20090531  2008.0    AIR    1377.511\n",
              "1       1004  20100531  2009.0    AIR    1501.042\n",
              "2       1004  20110531  2010.0    AIR    1703.727\n",
              "3       1004  20120531  2011.0    AIR    2195.653\n",
              "4       1004  20130531  2012.0    AIR    2136.900\n",
              "...      ...       ...     ...    ...         ...\n",
              "13371  15743  20111231  2011.0  DBSDY  263242.972\n",
              "13372  15743  20121231  2012.0  DBSDY  289039.627\n",
              "13373  15743  20121231  2012.0  DBSDY  289039.627\n",
              "13374  15743  20131231  2013.0  DBSDY  318497.861\n",
              "13375  15743  20131231  2013.0  DBSDY  318497.861\n",
              "\n",
              "[12570 rows x 5 columns]"
            ]
          },
          "metadata": {
            "tags": []
          },
          "execution_count": 3
        }
      ]
    },
    {
      "cell_type": "markdown",
      "metadata": {
        "id": "7Guq-M8l7uIH"
      },
      "source": [
        "#### 3. Menggabungkan label \"tic\" yang sama kemudian dilakukan func method .mean() untuk mencari rata-rata"
      ]
    },
    {
      "cell_type": "code",
      "metadata": {
        "id": "yTW20X507uIH",
        "outputId": "b4a4ce88-846c-4420-dab6-489bbc9b9385"
      },
      "source": [
        "tic = new_df.groupby(['tic'])\n",
        "tic = tic.mean()\n",
        "tic[\"at\"].tail(100)"
      ],
      "execution_count": null,
      "outputs": [
        {
          "output_type": "execute_result",
          "data": {
            "text/plain": [
              "tic\n",
              "WACLY      2527.741333\n",
              "WBA       28370.666667\n",
              "WBK      578113.277333\n",
              "WCM.A        53.693667\n",
              "WDAY        867.147000\n",
              "             ...      \n",
              "ZNT        2479.513500\n",
              "ZQKSQ      1803.654500\n",
              "ZRBA         21.217500\n",
              "ZTS        5953.750000\n",
              "ZZ          959.528000\n",
              "Name: at, Length: 100, dtype: float64"
            ]
          },
          "metadata": {
            "tags": []
          },
          "execution_count": 4
        }
      ]
    },
    {
      "cell_type": "code",
      "metadata": {
        "id": "Lve1tuHe7uIH",
        "outputId": "114003df-b611-4089-bd8a-242c9cf1bd12"
      },
      "source": [
        "tic[\"at\"].loc[[\"AIR\",\"ADCT\",\"IWKS\",\"AAL\",\"CECE\", \"ASA\", \"AVX\", \"PNW\", \"AAN\", \"ABT\"]]"
      ],
      "execution_count": null,
      "outputs": [
        {
          "output_type": "execute_result",
          "data": {
            "text/plain": [
              "tic\n",
              "AIR      1852.388833\n",
              "ADCT     1579.700000\n",
              "IWKS       21.401000\n",
              "AAL     27556.166667\n",
              "CECE      132.384667\n",
              "ASA       493.668333\n",
              "AVX      2283.083000\n",
              "PNW     12631.711667\n",
              "AAN      1572.008667\n",
              "ABT     54127.155000\n",
              "Name: at, dtype: float64"
            ]
          },
          "metadata": {
            "tags": []
          },
          "execution_count": 5
        }
      ]
    },
    {
      "cell_type": "markdown",
      "metadata": {
        "id": "ptgI9Wm67uII"
      },
      "source": [
        "#### 4. Save to .csv"
      ]
    },
    {
      "cell_type": "code",
      "metadata": {
        "id": "SEZiz-dv7uII"
      },
      "source": [
        "tic[\"at\"].to_csv(\"LB_TA.csv\")"
      ],
      "execution_count": null,
      "outputs": []
    }
  ]
}