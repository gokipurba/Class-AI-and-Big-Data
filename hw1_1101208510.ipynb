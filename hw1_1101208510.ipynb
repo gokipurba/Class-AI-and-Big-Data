{
 "cells": [
  {
   "cell_type": "markdown",
   "metadata": {},
   "source": [
    "----\n",
    "Homework no: 1\n",
    "===\n",
    "\n",
    "### Name : Goki Folder Rudianto Purba | Student ID : 1101208510   \n",
    "\n",
    "---\n",
    "#### (x) My refrence \n",
    "#### (v) I totally write by myself\n",
    "#### Author |  ***[Goki Purba GitHub](https://github.com/gokipurba \"Purba's GitHub\")***\n",
    "\n",
    "***Artificial Intelegence.***\n",
    "\n",
    "\n",
    "<p><div style=\"text-align: justify\">Artificial intelligence adalah suatu bidang yang sangat luas dengan sistem kecerdasan buatan yang menyerupai pola pikir manusia.  Bidang ini  dimulai untuk di teliti pada tahun 1950-an dan menjadi sangat di gemari pada tahun 1980-an. AI adalah bidang umum dari  machine learning  dan deep learning, namun  mencakup lebih banyak pendekatan , Kecerdasan buatan tingkat manusia ini dapat dicapai dengan meminta pemrogram mampu membuat model aturan secara eksplisit yang cukup besar untuk memanipulasi pengetahuan, terbukti AI dapat memecahkan masalah logis yang terdefenisi seperti permasalahan bermain catur, namun cukup sulit untuk membuat aturan model dengan masalah lebih kompleks seperti gambar, suara. Maka ada sebuah pendekatan dari bidang umum AI yaitu machine learning.(Deep Learning With Python, Chollet.F)  </div></p>\n",
    "\n",
    "***Machine Learning.***\n",
    "\n",
    "\n",
    "<p><div style=\"text-align: justify\">Machine Learning awal mucul isitilah ini digunakan untuk mendeskripsikan programs yang diberi ke sebuah komputer dengan kemampuan untuk belajar dari hasil atau data, ini mengubah paradigma programing yang classik, dimana programer menuliskan susunan aturan untuk mendapatkan hasil,namun dengan ML programmer memasukkan data kemudian menghasilkan sebuah rule yang identik dengan data yang dimasukkan, dan rule ini digunakan untuk mendapatkan hasil jawaban dari data yang dimasukkan. Sejarah singkatnya ML ini Laplace mengambil intuisi dari Thomas Bayes dan Richard Price dan mengembangkannya menjadi sebuah aturan yang dikenal Baye’s Rule dan juga Gauss dalam penelitiannya mengembangkan method of least squares, yang mana memampukan kita untuk mencari model terbaik yang cocok pada sebuah data set dengan meminimalkan error. Method of least squares memberikan dasar untuk metode pembelajaran statistik seperti regresi linier dan regresi logistik serta pengembangan model jaringan saraf tiruan dalam kecerdasan buatan. </div>\n",
    "<div style=\"text-align: justify\">    \n",
    "Pada pertengahan tahun 1960-an ada 3 kontribusi penting yang dibuat oleh ML. \n",
    "    <li>Pada tahun 1965, buku Nils Nilsson berjudul Learning Machines menunjukkan bagaimana neural network dapat digunakan untuk mempelajari model linier untuk klasifikasi.\n",
    "    <li>1966, Earl B. Hunt, Janet Marin, dan Philip J. Stone mengembangkan kerangka konsep, yang merupakan fudanmental dari keluarga penting algoritme ML yang mendorong model pohon keputusan decision-tree  dari data dengan cara top-down \n",
    "    <li>Sekitar waktu yang sama, sejumlah peneliti independen mengembangkan dan menerbitkan versi awal algoritme pengelompokan k-means, kini algoritme standar digunakan untuk segmentasi data pelanggan. (Data Science MIT, Jhon.K), (Deep Learning With Python, Chollet.F)\n",
    " </div></p>\n",
    " \n",
    "***Deep Learning.***\n",
    "\n",
    "\n",
    "<p><div style=\"text-align: justify\">Deep Learning adalah bagian dari AI dan ML yang merupakan pengembangan dari neural network multiple layer untuk memberikan ketepatan tugas seperti deteksi objek, pengenalan suara, terjemahan bahasa dan lain – lain. Kedalaman layer yang berkontribusi untuk memodelkan dari data disebut sebagai depth dari model. Jumlah layer yang digunakan biasanya sepuluh atau bahkan ratusan layer susun yang bermakna. Didalam layer susun bermakana ini disimpan bobot atau weight dari input data, bobot ini adalah kumpulan dari angka, kemudian ditransformasikan dan diimplementasikan kepada layer ini adalah kumpulan parameter dari bobot, sehingga kedalaman layer depth yang tinggi dapat memiliki jutaan parameter yang akan dibentuk, fungsi ini adalah proses learning untuk mencari nilai yang benar melakukan modifikasi setiap parameter sehingga akan berhubungan dan menciptakan hubungan kebiasaan dengan parameter satu dengan yang lainnya.sehingga model dapat mempelajari data set atau input data sehingga dapat menimbulkan sifat atau kebiasaan yang khas pada sebuah model. (Deep Learning With Python, Chollet.F) </div></p>\n",
    "\n",
    "#### Aplikasi\n",
    "<div style=\"text-align: justify\">Penggunaan dari AI ini sudah mulai banyak digunakan, sebagai contoh belakangan ini di era Covid-19 sudah ada yang menerapkan model clasifikasi wajah yang menggunakan masker, dan yang tidak menggunakan masker. Kemudian karya anak bangsa yang memanfaatkan konsep machine learnig untuk mendeteksi seseorang terinfeksi virus corona dengan mengambil sampel hembusan nafas udara sebagai input data, kemudian hembusan nafas yang dimasukkan kedalam model akan melakukan proses test pada sampel dan alat pendeteksi corona ini juga memiliki akurasi ketepatan yang cukup tinggi dan  proses keluarnya hasil cukup cepat, dan ini mungkin bisa dikembangkan untuk melakukan deteksi penyakit pada pernapasan, dan bukan hanya deteksi virus corona. \n",
    "Tantangan yang berada pada machine learning ini, memerlukan jumlah dan kualitas dari data set yang cukup agar proses training dan test pada model akan menghasilkan akurasi yang tinggi dan error yang rendah.</div>"
   ]
  },
  {
   "cell_type": "code",
   "execution_count": null,
   "metadata": {},
   "outputs": [],
   "source": [
    " "
   ]
  }
 ],
 "metadata": {
  "kernelspec": {
   "display_name": "Python 3",
   "language": "python",
   "name": "python3"
  },
  "language_info": {
   "codemirror_mode": {
    "name": "ipython",
    "version": 3
   },
   "file_extension": ".py",
   "mimetype": "text/x-python",
   "name": "python",
   "nbconvert_exporter": "python",
   "pygments_lexer": "ipython3",
   "version": "3.8.5"
  }
 },
 "nbformat": 4,
 "nbformat_minor": 4
}
